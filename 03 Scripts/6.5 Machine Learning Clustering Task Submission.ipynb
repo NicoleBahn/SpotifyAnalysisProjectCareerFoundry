{
 "cells": [
  {
   "cell_type": "markdown",
   "id": "e1a49818",
   "metadata": {},
   "source": [
    "### Contents:\n",
    "\n",
    "#### 1. Importing libraries and data \n",
    "#### 2. The elbow technique\n",
    "#### 3. k-means clustering"
   ]
  },
  {
   "cell_type": "markdown",
   "id": "866a9f68",
   "metadata": {},
   "source": [
    "### 1.Importing Libraries & Data "
   ]
  },
  {
   "cell_type": "code",
   "execution_count": 1,
   "id": "cea05d1a",
   "metadata": {},
   "outputs": [],
   "source": [
    "#Importing Data\n",
    "import pandas as pd\n",
    "import numpy as np\n",
    "import seaborn as sns\n",
    "import matplotlib\n",
    "import matplotlib.pyplot as plt\n",
    "import os\n",
    "import sklearn\n",
    "from sklearn.cluster import KMeans # Here is where you import the k-means algorithm from scikit-learn.\n",
    "import pylab as pl # PyLab is a convenience module that bulk imports matplotlib."
   ]
  },
  {
   "cell_type": "code",
   "execution_count": 2,
   "id": "3ba46353",
   "metadata": {},
   "outputs": [],
   "source": [
    "# This option ensures the graphs you create are displayed in your notebook without the need to \"call\" them specifically.\n",
    "\n",
    "%matplotlib inline"
   ]
  },
  {
   "cell_type": "code",
   "execution_count": 3,
   "id": "c97936ed",
   "metadata": {},
   "outputs": [],
   "source": [
    "# Define path \n",
    "\n",
    "path = '/Volumes/2020-2021/CareerFoundry/Data Analytics Program/Achievement 6 Immersion/6 Immersion Project'"
   ]
  },
  {
   "cell_type": "code",
   "execution_count": 4,
   "id": "bcb8996c",
   "metadata": {},
   "outputs": [],
   "source": [
    "df = pd.read_pickle(os.path.join(path,'02 Data','Prepared Data','Final_Spotify_database_cleaned.pkl'))"
   ]
  },
  {
   "cell_type": "code",
   "execution_count": 5,
   "id": "ef2960be",
   "metadata": {},
   "outputs": [
    {
     "data": {
      "text/plain": [
       "Index(['Country', 'Uri', 'Popularity', 'Title', 'Artist', 'Album/Single',\n",
       "       'Genre', 'Artist_followers', 'Explicit', 'Album',\n",
       "       ...\n",
       "       'Sweden', 'Switzerland', 'Taiwan', 'Turkey', 'UK', 'USA', 'Popu_max',\n",
       "       'Top10_dummy', 'Top50_dummy', 'Cluster'],\n",
       "      dtype='object', length=151)"
      ]
     },
     "execution_count": 5,
     "metadata": {},
     "output_type": "execute_result"
    }
   ],
   "source": [
    "df.columns"
   ]
  },
  {
   "cell_type": "code",
   "execution_count": 6,
   "id": "b6cfd053",
   "metadata": {},
   "outputs": [
    {
     "data": {
      "text/html": [
       "<div>\n",
       "<style scoped>\n",
       "    .dataframe tbody tr th:only-of-type {\n",
       "        vertical-align: middle;\n",
       "    }\n",
       "\n",
       "    .dataframe tbody tr th {\n",
       "        vertical-align: top;\n",
       "    }\n",
       "\n",
       "    .dataframe thead th {\n",
       "        text-align: right;\n",
       "    }\n",
       "</style>\n",
       "<table border=\"1\" class=\"dataframe\">\n",
       "  <thead>\n",
       "    <tr style=\"text-align: right;\">\n",
       "      <th></th>\n",
       "      <th>Country</th>\n",
       "      <th>Uri</th>\n",
       "      <th>Popularity</th>\n",
       "      <th>Title</th>\n",
       "      <th>Artist</th>\n",
       "      <th>Album/Single</th>\n",
       "      <th>Genre</th>\n",
       "      <th>Artist_followers</th>\n",
       "      <th>Explicit</th>\n",
       "      <th>Album</th>\n",
       "      <th>...</th>\n",
       "      <th>Sweden</th>\n",
       "      <th>Switzerland</th>\n",
       "      <th>Taiwan</th>\n",
       "      <th>Turkey</th>\n",
       "      <th>UK</th>\n",
       "      <th>USA</th>\n",
       "      <th>Popu_max</th>\n",
       "      <th>Top10_dummy</th>\n",
       "      <th>Top50_dummy</th>\n",
       "      <th>Cluster</th>\n",
       "    </tr>\n",
       "  </thead>\n",
       "  <tbody>\n",
       "    <tr>\n",
       "      <th>0</th>\n",
       "      <td>Global</td>\n",
       "      <td>https://open.spotify.com/track/6FyRXC8tJUh863J...</td>\n",
       "      <td>31833.95</td>\n",
       "      <td>adan y eva</td>\n",
       "      <td>Paulo Londra</td>\n",
       "      <td>single</td>\n",
       "      <td>argentine hip hop</td>\n",
       "      <td>11427104.0</td>\n",
       "      <td>False</td>\n",
       "      <td>Adan y Eva</td>\n",
       "      <td>...</td>\n",
       "      <td>0</td>\n",
       "      <td>0</td>\n",
       "      <td>0</td>\n",
       "      <td>0</td>\n",
       "      <td>0</td>\n",
       "      <td>0</td>\n",
       "      <td>10</td>\n",
       "      <td>1.0</td>\n",
       "      <td>1.0</td>\n",
       "      <td>global</td>\n",
       "    </tr>\n",
       "    <tr>\n",
       "      <th>1</th>\n",
       "      <td>USA</td>\n",
       "      <td>https://open.spotify.com/track/6FyRXC8tJUh863J...</td>\n",
       "      <td>8.00</td>\n",
       "      <td>adan y eva</td>\n",
       "      <td>Paulo Londra</td>\n",
       "      <td>single</td>\n",
       "      <td>argentine hip hop</td>\n",
       "      <td>11427104.0</td>\n",
       "      <td>False</td>\n",
       "      <td>Adan y Eva</td>\n",
       "      <td>...</td>\n",
       "      <td>0</td>\n",
       "      <td>0</td>\n",
       "      <td>0</td>\n",
       "      <td>0</td>\n",
       "      <td>0</td>\n",
       "      <td>1</td>\n",
       "      <td>191</td>\n",
       "      <td>0.0</td>\n",
       "      <td>0.0</td>\n",
       "      <td>english speaking and nordic</td>\n",
       "    </tr>\n",
       "    <tr>\n",
       "      <th>2</th>\n",
       "      <td>Argentina</td>\n",
       "      <td>https://open.spotify.com/track/6FyRXC8tJUh863J...</td>\n",
       "      <td>76924.40</td>\n",
       "      <td>adan y eva</td>\n",
       "      <td>Paulo Londra</td>\n",
       "      <td>single</td>\n",
       "      <td>argentine hip hop</td>\n",
       "      <td>11427104.0</td>\n",
       "      <td>False</td>\n",
       "      <td>Adan y Eva</td>\n",
       "      <td>...</td>\n",
       "      <td>0</td>\n",
       "      <td>0</td>\n",
       "      <td>0</td>\n",
       "      <td>0</td>\n",
       "      <td>0</td>\n",
       "      <td>0</td>\n",
       "      <td>1</td>\n",
       "      <td>1.0</td>\n",
       "      <td>1.0</td>\n",
       "      <td>spanish speaking</td>\n",
       "    </tr>\n",
       "    <tr>\n",
       "      <th>3</th>\n",
       "      <td>Belgium</td>\n",
       "      <td>https://open.spotify.com/track/6FyRXC8tJUh863J...</td>\n",
       "      <td>849.60</td>\n",
       "      <td>adan y eva</td>\n",
       "      <td>Paulo Londra</td>\n",
       "      <td>single</td>\n",
       "      <td>argentine hip hop</td>\n",
       "      <td>11427104.0</td>\n",
       "      <td>False</td>\n",
       "      <td>Adan y Eva</td>\n",
       "      <td>...</td>\n",
       "      <td>0</td>\n",
       "      <td>0</td>\n",
       "      <td>0</td>\n",
       "      <td>0</td>\n",
       "      <td>0</td>\n",
       "      <td>0</td>\n",
       "      <td>126</td>\n",
       "      <td>0.0</td>\n",
       "      <td>0.0</td>\n",
       "      <td>english speaking and nordic</td>\n",
       "    </tr>\n",
       "    <tr>\n",
       "      <th>4</th>\n",
       "      <td>Switzerland</td>\n",
       "      <td>https://open.spotify.com/track/6FyRXC8tJUh863J...</td>\n",
       "      <td>20739.10</td>\n",
       "      <td>adan y eva</td>\n",
       "      <td>Paulo Londra</td>\n",
       "      <td>single</td>\n",
       "      <td>argentine hip hop</td>\n",
       "      <td>11427104.0</td>\n",
       "      <td>False</td>\n",
       "      <td>Adan y Eva</td>\n",
       "      <td>...</td>\n",
       "      <td>0</td>\n",
       "      <td>1</td>\n",
       "      <td>0</td>\n",
       "      <td>0</td>\n",
       "      <td>0</td>\n",
       "      <td>0</td>\n",
       "      <td>21</td>\n",
       "      <td>0.0</td>\n",
       "      <td>1.0</td>\n",
       "      <td>english speaking and nordic</td>\n",
       "    </tr>\n",
       "  </tbody>\n",
       "</table>\n",
       "<p>5 rows × 151 columns</p>\n",
       "</div>"
      ],
      "text/plain": [
       "       Country                                                Uri  Popularity  \\\n",
       "0       Global  https://open.spotify.com/track/6FyRXC8tJUh863J...    31833.95   \n",
       "1          USA  https://open.spotify.com/track/6FyRXC8tJUh863J...        8.00   \n",
       "2    Argentina  https://open.spotify.com/track/6FyRXC8tJUh863J...    76924.40   \n",
       "3      Belgium  https://open.spotify.com/track/6FyRXC8tJUh863J...      849.60   \n",
       "4  Switzerland  https://open.spotify.com/track/6FyRXC8tJUh863J...    20739.10   \n",
       "\n",
       "        Title        Artist Album/Single              Genre Artist_followers  \\\n",
       "0  adan y eva  Paulo Londra       single  argentine hip hop       11427104.0   \n",
       "1  adan y eva  Paulo Londra       single  argentine hip hop       11427104.0   \n",
       "2  adan y eva  Paulo Londra       single  argentine hip hop       11427104.0   \n",
       "3  adan y eva  Paulo Londra       single  argentine hip hop       11427104.0   \n",
       "4  adan y eva  Paulo Londra       single  argentine hip hop       11427104.0   \n",
       "\n",
       "  Explicit       Album  ... Sweden Switzerland Taiwan Turkey UK USA Popu_max  \\\n",
       "0    False  Adan y Eva  ...      0           0      0      0  0   0       10   \n",
       "1    False  Adan y Eva  ...      0           0      0      0  0   1      191   \n",
       "2    False  Adan y Eva  ...      0           0      0      0  0   0        1   \n",
       "3    False  Adan y Eva  ...      0           0      0      0  0   0      126   \n",
       "4    False  Adan y Eva  ...      0           1      0      0  0   0       21   \n",
       "\n",
       "  Top10_dummy Top50_dummy                      Cluster  \n",
       "0         1.0         1.0                       global  \n",
       "1         0.0         0.0  english speaking and nordic  \n",
       "2         1.0         1.0             spanish speaking  \n",
       "3         0.0         0.0  english speaking and nordic  \n",
       "4         0.0         1.0  english speaking and nordic  \n",
       "\n",
       "[5 rows x 151 columns]"
      ]
     },
     "execution_count": 6,
     "metadata": {},
     "output_type": "execute_result"
    }
   ],
   "source": [
    "df.head()"
   ]
  },
  {
   "cell_type": "code",
   "execution_count": 7,
   "id": "215a27a3",
   "metadata": {},
   "outputs": [
    {
     "data": {
      "text/plain": [
       "(170633, 151)"
      ]
     },
     "execution_count": 7,
     "metadata": {},
     "output_type": "execute_result"
    }
   ],
   "source": [
    "df.shape"
   ]
  },
  {
   "cell_type": "code",
   "execution_count": 11,
   "id": "a4bac9e8",
   "metadata": {},
   "outputs": [],
   "source": [
    "#Reduce DF to only quantitative columns necessary for clustering\n",
    "\n",
    "df_cluster = df[['Top50_dummy','Popularity']]"
   ]
  },
  {
   "cell_type": "markdown",
   "id": "d217ee5c",
   "metadata": {},
   "source": [
    "### 02. The elbow technique"
   ]
  },
  {
   "cell_type": "code",
   "execution_count": 12,
   "id": "a98ab1fd",
   "metadata": {},
   "outputs": [
    {
     "data": {
      "text/plain": [
       "[-29353079030486.94,\n",
       " -9726413257823.148,\n",
       " -4836460305563.315,\n",
       " -2876192438765.9316,\n",
       " -1917241928487.6497,\n",
       " -1359560530297.677,\n",
       " -1015861256163.1865,\n",
       " -782104278800.7688,\n",
       " -620309159750.245]"
      ]
     },
     "execution_count": 12,
     "metadata": {},
     "output_type": "execute_result"
    }
   ],
   "source": [
    "score = [kmeans[i].fit(df_cluster).score(df_cluster) for i in range(len(kmeans))] # Creates a score that represents \n",
    "# a rate of variation for the given cluster option.\n",
    "\n",
    "score"
   ]
  },
  {
   "cell_type": "code",
   "execution_count": 13,
   "id": "88bc22fd",
   "metadata": {},
   "outputs": [
    {
     "data": {
      "image/png": "[encoded data removed]",
      "text/plain": [
       "<Figure size 432x288 with 1 Axes>"
      ]
     },
     "metadata": {
      "needs_background": "light"
     },
     "output_type": "display_data"
    }
   ],
   "source": [
    "# Plot the elbow curve using PyLab.\n",
    "\n",
    "pl.plot(num_cl,score)\n",
    "pl.xlabel('Number of Clusters')\n",
    "pl.ylabel('Score')\n",
    "pl.title('Elbow Curve')\n",
    "pl.show()"
   ]
  },
  {
   "cell_type": "markdown",
   "id": "5005f184",
   "metadata": {},
   "source": [
    "A large jump is seen from two to three on the x-axis, but after this jump the curve straightens out. This implies that the optimal count for the clusters is three."
   ]
  },
  {
   "cell_type": "markdown",
   "id": "c7edfd54",
   "metadata": {},
   "source": [
    "### 03. K-means clustering"
   ]
  },
  {
   "cell_type": "code",
   "execution_count": 14,
   "id": "1d3145f7",
   "metadata": {},
   "outputs": [],
   "source": [
    "# Create the k-means object.\n",
    "\n",
    "kmeans = KMeans(n_clusters = 3, n_jobs = -1) "
   ]
  },
  {
   "cell_type": "code",
   "execution_count": 15,
   "id": "3e8c3ae6",
   "metadata": {},
   "outputs": [
    {
     "name": "stderr",
     "output_type": "stream",
     "text": [
      "/Users/Nicole/opt/anaconda3/lib/python3.8/site-packages/sklearn/cluster/_kmeans.py:792: FutureWarning: 'n_jobs' was deprecated in version 0.23 and will be removed in 1.0 (renaming of 0.25).\n",
      "  warnings.warn(\"'n_jobs' was deprecated in version 0.23 and will be\"\n"
     ]
    },
    {
     "data": {
      "text/plain": [
       "KMeans(n_clusters=3, n_jobs=-1)"
      ]
     },
     "execution_count": 15,
     "metadata": {},
     "output_type": "execute_result"
    }
   ],
   "source": [
    "# Fit the k-means object to the data.\n",
    "\n",
    "kmeans.fit(df_cluster)"
   ]
  },
  {
   "cell_type": "code",
   "execution_count": 16,
   "id": "c63b36ef",
   "metadata": {},
   "outputs": [
    {
     "data": {
      "text/html": [
       "<div>\n",
       "<style scoped>\n",
       "    .dataframe tbody tr th:only-of-type {\n",
       "        vertical-align: middle;\n",
       "    }\n",
       "\n",
       "    .dataframe tbody tr th {\n",
       "        vertical-align: top;\n",
       "    }\n",
       "\n",
       "    .dataframe thead th {\n",
       "        text-align: right;\n",
       "    }\n",
       "</style>\n",
       "<table border=\"1\" class=\"dataframe\">\n",
       "  <thead>\n",
       "    <tr style=\"text-align: right;\">\n",
       "      <th></th>\n",
       "      <th>Top50_dummy</th>\n",
       "      <th>Popularity</th>\n",
       "    </tr>\n",
       "  </thead>\n",
       "  <tbody>\n",
       "    <tr>\n",
       "      <th>0</th>\n",
       "      <td>1.0</td>\n",
       "      <td>31833.95</td>\n",
       "    </tr>\n",
       "    <tr>\n",
       "      <th>1</th>\n",
       "      <td>0.0</td>\n",
       "      <td>8.00</td>\n",
       "    </tr>\n",
       "    <tr>\n",
       "      <th>2</th>\n",
       "      <td>1.0</td>\n",
       "      <td>76924.40</td>\n",
       "    </tr>\n",
       "    <tr>\n",
       "      <th>3</th>\n",
       "      <td>0.0</td>\n",
       "      <td>849.60</td>\n",
       "    </tr>\n",
       "    <tr>\n",
       "      <th>4</th>\n",
       "      <td>1.0</td>\n",
       "      <td>20739.10</td>\n",
       "    </tr>\n",
       "  </tbody>\n",
       "</table>\n",
       "</div>"
      ],
      "text/plain": [
       "   Top50_dummy  Popularity\n",
       "0          1.0    31833.95\n",
       "1          0.0        8.00\n",
       "2          1.0    76924.40\n",
       "3          0.0      849.60\n",
       "4          1.0    20739.10"
      ]
     },
     "execution_count": 16,
     "metadata": {},
     "output_type": "execute_result"
    }
   ],
   "source": [
    "df_cluster.head()"
   ]
  },
  {
   "cell_type": "code",
   "execution_count": 17,
   "id": "0f3a4802",
   "metadata": {},
   "outputs": [
    {
     "name": "stderr",
     "output_type": "stream",
     "text": [
      "/Users/Nicole/opt/anaconda3/lib/python3.8/site-packages/sklearn/cluster/_kmeans.py:792: FutureWarning: 'n_jobs' was deprecated in version 0.23 and will be removed in 1.0 (renaming of 0.25).\n",
      "  warnings.warn(\"'n_jobs' was deprecated in version 0.23 and will be\"\n",
      "<ipython-input-17-a3840f0a4d0e>:1: SettingWithCopyWarning: \n",
      "A value is trying to be set on a copy of a slice from a DataFrame.\n",
      "Try using .loc[row_indexer,col_indexer] = value instead\n",
      "\n",
      "See the caveats in the documentation: https://pandas.pydata.org/pandas-docs/stable/user_guide/indexing.html#returning-a-view-versus-a-copy\n",
      "  df_cluster['clusters'] = kmeans.fit_predict(df_cluster)\n"
     ]
    }
   ],
   "source": [
    "df_cluster['clusters'] = kmeans.fit_predict(df_cluster)"
   ]
  },
  {
   "cell_type": "code",
   "execution_count": 18,
   "id": "8788fbf5",
   "metadata": {},
   "outputs": [
    {
     "data": {
      "text/plain": [
       "1    150954\n",
       "0     16319\n",
       "2      3360\n",
       "Name: clusters, dtype: int64"
      ]
     },
     "execution_count": 18,
     "metadata": {},
     "output_type": "execute_result"
    }
   ],
   "source": [
    "df_cluster['clusters'].value_counts()"
   ]
  },
  {
   "cell_type": "code",
   "execution_count": 21,
   "id": "9c92d85e",
   "metadata": {},
   "outputs": [
    {
     "data": {
      "image/png": "[encoded data removed]",
      "text/plain": [
       "<Figure size 864x576 with 1 Axes>"
      ]
     },
     "metadata": {
      "needs_background": "light"
     },
     "output_type": "display_data"
    }
   ],
   "source": [
    "# Plot the clusters for the \"Top50_dummy\" and \"Popularity\" variables.\n",
    "\n",
    "plt.figure(figsize=(12,8))\n",
    "ax = sns.scatterplot(x=df_cluster['Top50_dummy'], y=df_cluster['Popularity'], hue=kmeans.labels_, s=100) \n",
    "# Here, you're subsetting `X` for the x and y arguments to avoid using their labels. \n",
    "# `hue` takes the value of the attribute `kmeans.labels_`, which is the result of running the k-means algorithm.\n",
    "# `s` represents the size of the points you want to see in the plot.\n",
    "\n",
    "ax.grid(False) # This removes the grid from the background.\n",
    "plt.xlabel('Top 50 Songs') # Label x-axis.\n",
    "plt.ylabel('Popularity of Artist') # Label y-axis.\n",
    "plt.show()"
   ]
  },
  {
   "cell_type": "code",
   "execution_count": 22,
   "id": "03932765",
   "metadata": {},
   "outputs": [
    {
     "name": "stderr",
     "output_type": "stream",
     "text": [
      "/Users/Nicole/opt/anaconda3/lib/python3.8/site-packages/pandas/core/indexing.py:1599: SettingWithCopyWarning: \n",
      "A value is trying to be set on a copy of a slice from a DataFrame.\n",
      "Try using .loc[row_indexer,col_indexer] = value instead\n",
      "\n",
      "See the caveats in the documentation: https://pandas.pydata.org/pandas-docs/stable/user_guide/indexing.html#returning-a-view-versus-a-copy\n",
      "  self.obj[key] = infer_fill_value(value)\n",
      "/Users/Nicole/opt/anaconda3/lib/python3.8/site-packages/pandas/core/indexing.py:1720: SettingWithCopyWarning: \n",
      "A value is trying to be set on a copy of a slice from a DataFrame.\n",
      "Try using .loc[row_indexer,col_indexer] = value instead\n",
      "\n",
      "See the caveats in the documentation: https://pandas.pydata.org/pandas-docs/stable/user_guide/indexing.html#returning-a-view-versus-a-copy\n",
      "  self._setitem_single_column(loc, value, pi)\n",
      "/Users/Nicole/opt/anaconda3/lib/python3.8/site-packages/pandas/core/indexing.py:1720: SettingWithCopyWarning: \n",
      "A value is trying to be set on a copy of a slice from a DataFrame.\n",
      "Try using .loc[row_indexer,col_indexer] = value instead\n",
      "\n",
      "See the caveats in the documentation: https://pandas.pydata.org/pandas-docs/stable/user_guide/indexing.html#returning-a-view-versus-a-copy\n",
      "  self._setitem_single_column(loc, value, pi)\n",
      "/Users/Nicole/opt/anaconda3/lib/python3.8/site-packages/pandas/core/indexing.py:1720: SettingWithCopyWarning: \n",
      "A value is trying to be set on a copy of a slice from a DataFrame.\n",
      "Try using .loc[row_indexer,col_indexer] = value instead\n",
      "\n",
      "See the caveats in the documentation: https://pandas.pydata.org/pandas-docs/stable/user_guide/indexing.html#returning-a-view-versus-a-copy\n",
      "  self._setitem_single_column(loc, value, pi)\n"
     ]
    }
   ],
   "source": [
    "df_cluster.loc[df_cluster['clusters'] == 2, 'cluster'] = 'dark purple'\n",
    "df_cluster.loc[df_cluster['clusters'] == 1, 'cluster'] = 'purple'\n",
    "df_cluster.loc[df_cluster['clusters'] == 0, 'cluster'] = 'pink'"
   ]
  },
  {
   "cell_type": "code",
   "execution_count": 23,
   "id": "394ee6b1",
   "metadata": {},
   "outputs": [
    {
     "data": {
      "text/html": [
       "<div>\n",
       "<style scoped>\n",
       "    .dataframe tbody tr th:only-of-type {\n",
       "        vertical-align: middle;\n",
       "    }\n",
       "\n",
       "    .dataframe tbody tr th {\n",
       "        vertical-align: top;\n",
       "    }\n",
       "\n",
       "    .dataframe thead tr th {\n",
       "        text-align: left;\n",
       "    }\n",
       "\n",
       "    .dataframe thead tr:last-of-type th {\n",
       "        text-align: right;\n",
       "    }\n",
       "</style>\n",
       "<table border=\"1\" class=\"dataframe\">\n",
       "  <thead>\n",
       "    <tr>\n",
       "      <th></th>\n",
       "      <th colspan=\"2\" halign=\"left\">Top50_dummy</th>\n",
       "      <th colspan=\"2\" halign=\"left\">Popularity</th>\n",
       "    </tr>\n",
       "    <tr>\n",
       "      <th></th>\n",
       "      <th>mean</th>\n",
       "      <th>median</th>\n",
       "      <th>mean</th>\n",
       "      <th>median</th>\n",
       "    </tr>\n",
       "    <tr>\n",
       "      <th>cluster</th>\n",
       "      <th></th>\n",
       "      <th></th>\n",
       "      <th></th>\n",
       "      <th></th>\n",
       "    </tr>\n",
       "  </thead>\n",
       "  <tbody>\n",
       "    <tr>\n",
       "      <th>dark purple</th>\n",
       "      <td>0.977083</td>\n",
       "      <td>1.0</td>\n",
       "      <td>73661.085283</td>\n",
       "      <td>65436.30</td>\n",
       "    </tr>\n",
       "    <tr>\n",
       "      <th>pink</th>\n",
       "      <td>0.896195</td>\n",
       "      <td>1.0</td>\n",
       "      <td>25796.486503</td>\n",
       "      <td>23286.65</td>\n",
       "    </tr>\n",
       "    <tr>\n",
       "      <th>purple</th>\n",
       "      <td>0.214648</td>\n",
       "      <td>0.0</td>\n",
       "      <td>1695.549679</td>\n",
       "      <td>336.15</td>\n",
       "    </tr>\n",
       "  </tbody>\n",
       "</table>\n",
       "</div>"
      ],
      "text/plain": [
       "            Top50_dummy           Popularity          \n",
       "                   mean median          mean    median\n",
       "cluster                                               \n",
       "dark purple    0.977083    1.0  73661.085283  65436.30\n",
       "pink           0.896195    1.0  25796.486503  23286.65\n",
       "purple         0.214648    0.0   1695.549679    336.15"
      ]
     },
     "execution_count": 23,
     "metadata": {},
     "output_type": "execute_result"
    }
   ],
   "source": [
    "#Calculate decriptive statistics of clusters\n",
    "\n",
    "df_cluster.groupby('cluster').agg({'Top50_dummy':['mean', 'median'], \n",
    "                                   'Popularity':['mean', 'median']})"
   ]
  },
  {
   "cell_type": "markdown",
   "id": "23ce2910",
   "metadata": {},
   "source": [
    "Cluster 2 is the most populated cluster & the dark purple seems to have the best statistics. From the clustering, it looks like there is a higher chance of being in the Top 50 songs when the artist is more popular."
   ]
  },
  {
   "cell_type": "markdown",
   "id": "ba786957",
   "metadata": {},
   "source": [
    "These results could be useful for in future steps of an analytics pipeline when understanding which Artists are most popular in each of the counties and if they change or stay the same in each country. "
   ]
  },
  {
   "cell_type": "code",
   "execution_count": null,
   "id": "e7164296",
   "metadata": {},
   "outputs": [],
   "source": []
  }
 ],
 "metadata": {
  "kernelspec": {
   "display_name": "Python 3",
   "language": "python",
   "name": "python3"
  },
  "language_info": {
   "codemirror_mode": {
    "name": "ipython",
    "version": 3
   },
   "file_extension": ".py",
   "mimetype": "text/x-python",
   "name": "python",
   "nbconvert_exporter": "python",
   "pygments_lexer": "ipython3",
   "version": "3.8.8"
  }
 },
 "nbformat": 4,
 "nbformat_minor": 5
}
